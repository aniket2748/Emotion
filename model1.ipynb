{
  "nbformat": 4,
  "nbformat_minor": 0,
  "metadata": {
    "colab": {
      "name": "model1.ipynb",
      "provenance": [],
      "collapsed_sections": []
    },
    "kernelspec": {
      "display_name": "Python 3",
      "name": "python3"
    }
  },
  "cells": [
    {
      "cell_type": "code",
      "metadata": {
        "id": "J1wr5BLpfDoS"
      },
      "source": [
        "%tensorflow_version 2.x\n",
        "import tensorflow as tf\n",
        "from tensorflow import keras\n",
        "import matplotlib.pyplot as plt\n",
        "import pandas as pd\n",
        "import numpy as np\n",
        "import cv2\n",
        "from tensorflow.keras.preprocessing.image import ImageDataGenerator\n",
        "from tensorflow.keras.preprocessing import image\n",
        "from tensorflow.keras import layers,models\n"
      ],
      "execution_count": null,
      "outputs": []
    },
    {
      "cell_type": "code",
      "metadata": {
        "colab": {
          "base_uri": "https://localhost:8080/",
          "height": 195
        },
        "id": "tXNl85RNp-Yu",
        "outputId": "e9c2e9cf-0c8b-4df6-dc7a-fcfd2d4db24d"
      },
      "source": [
        "data=pd.read_csv(\"/content/drive/MyDrive/icml_face_data.csv\",header=None)\r\n",
        "data.head()"
      ],
      "execution_count": null,
      "outputs": [
        {
          "output_type": "execute_result",
          "data": {
            "text/html": [
              "<div>\n",
              "<style scoped>\n",
              "    .dataframe tbody tr th:only-of-type {\n",
              "        vertical-align: middle;\n",
              "    }\n",
              "\n",
              "    .dataframe tbody tr th {\n",
              "        vertical-align: top;\n",
              "    }\n",
              "\n",
              "    .dataframe thead th {\n",
              "        text-align: right;\n",
              "    }\n",
              "</style>\n",
              "<table border=\"1\" class=\"dataframe\">\n",
              "  <thead>\n",
              "    <tr style=\"text-align: right;\">\n",
              "      <th></th>\n",
              "      <th>0</th>\n",
              "      <th>1</th>\n",
              "      <th>2</th>\n",
              "    </tr>\n",
              "  </thead>\n",
              "  <tbody>\n",
              "    <tr>\n",
              "      <th>0</th>\n",
              "      <td>emotion</td>\n",
              "      <td>Usage</td>\n",
              "      <td>pixels</td>\n",
              "    </tr>\n",
              "    <tr>\n",
              "      <th>1</th>\n",
              "      <td>0</td>\n",
              "      <td>Training</td>\n",
              "      <td>70 80 82 72 58 58 60 63 54 58 60 48 89 115 121...</td>\n",
              "    </tr>\n",
              "    <tr>\n",
              "      <th>2</th>\n",
              "      <td>0</td>\n",
              "      <td>Training</td>\n",
              "      <td>151 150 147 155 148 133 111 140 170 174 182 15...</td>\n",
              "    </tr>\n",
              "    <tr>\n",
              "      <th>3</th>\n",
              "      <td>2</td>\n",
              "      <td>Training</td>\n",
              "      <td>231 212 156 164 174 138 161 173 182 200 106 38...</td>\n",
              "    </tr>\n",
              "    <tr>\n",
              "      <th>4</th>\n",
              "      <td>4</td>\n",
              "      <td>Training</td>\n",
              "      <td>24 32 36 30 32 23 19 20 30 41 21 22 32 34 21 1...</td>\n",
              "    </tr>\n",
              "  </tbody>\n",
              "</table>\n",
              "</div>"
            ],
            "text/plain": [
              "         0         1                                                  2\n",
              "0  emotion     Usage                                             pixels\n",
              "1        0  Training  70 80 82 72 58 58 60 63 54 58 60 48 89 115 121...\n",
              "2        0  Training  151 150 147 155 148 133 111 140 170 174 182 15...\n",
              "3        2  Training  231 212 156 164 174 138 161 173 182 200 106 38...\n",
              "4        4  Training  24 32 36 30 32 23 19 20 30 41 21 22 32 34 21 1..."
            ]
          },
          "metadata": {
            "tags": []
          },
          "execution_count": 3
        }
      ]
    },
    {
      "cell_type": "code",
      "metadata": {
        "colab": {
          "base_uri": "https://localhost:8080/",
          "height": 195
        },
        "id": "zADIAr5sG3VL",
        "outputId": "aa0b89a5-ef28-44c3-e34a-1a10a4214d64"
      },
      "source": [
        "data.tail()"
      ],
      "execution_count": null,
      "outputs": [
        {
          "output_type": "execute_result",
          "data": {
            "text/html": [
              "<div>\n",
              "<style scoped>\n",
              "    .dataframe tbody tr th:only-of-type {\n",
              "        vertical-align: middle;\n",
              "    }\n",
              "\n",
              "    .dataframe tbody tr th {\n",
              "        vertical-align: top;\n",
              "    }\n",
              "\n",
              "    .dataframe thead th {\n",
              "        text-align: right;\n",
              "    }\n",
              "</style>\n",
              "<table border=\"1\" class=\"dataframe\">\n",
              "  <thead>\n",
              "    <tr style=\"text-align: right;\">\n",
              "      <th></th>\n",
              "      <th>0</th>\n",
              "      <th>1</th>\n",
              "      <th>2</th>\n",
              "    </tr>\n",
              "  </thead>\n",
              "  <tbody>\n",
              "    <tr>\n",
              "      <th>35883</th>\n",
              "      <td>6</td>\n",
              "      <td>PrivateTest</td>\n",
              "      <td>50 36 17 22 23 29 33 39 34 37 37 37 39 43 48 5...</td>\n",
              "    </tr>\n",
              "    <tr>\n",
              "      <th>35884</th>\n",
              "      <td>3</td>\n",
              "      <td>PrivateTest</td>\n",
              "      <td>178 174 172 173 181 188 191 194 196 199 200 20...</td>\n",
              "    </tr>\n",
              "    <tr>\n",
              "      <th>35885</th>\n",
              "      <td>0</td>\n",
              "      <td>PrivateTest</td>\n",
              "      <td>17 17 16 23 28 22 19 17 25 26 20 24 31 19 27 9...</td>\n",
              "    </tr>\n",
              "    <tr>\n",
              "      <th>35886</th>\n",
              "      <td>3</td>\n",
              "      <td>PrivateTest</td>\n",
              "      <td>30 28 28 29 31 30 42 68 79 81 77 67 67 71 63 6...</td>\n",
              "    </tr>\n",
              "    <tr>\n",
              "      <th>35887</th>\n",
              "      <td>2</td>\n",
              "      <td>PrivateTest</td>\n",
              "      <td>19 13 14 12 13 16 21 33 50 57 71 84 97 108 122...</td>\n",
              "    </tr>\n",
              "  </tbody>\n",
              "</table>\n",
              "</div>"
            ],
            "text/plain": [
              "       0            1                                                  2\n",
              "35883  6  PrivateTest  50 36 17 22 23 29 33 39 34 37 37 37 39 43 48 5...\n",
              "35884  3  PrivateTest  178 174 172 173 181 188 191 194 196 199 200 20...\n",
              "35885  0  PrivateTest  17 17 16 23 28 22 19 17 25 26 20 24 31 19 27 9...\n",
              "35886  3  PrivateTest  30 28 28 29 31 30 42 68 79 81 77 67 67 71 63 6...\n",
              "35887  2  PrivateTest  19 13 14 12 13 16 21 33 50 57 71 84 97 108 122..."
            ]
          },
          "metadata": {
            "tags": []
          },
          "execution_count": 4
        }
      ]
    },
    {
      "cell_type": "code",
      "metadata": {
        "colab": {
          "base_uri": "https://localhost:8080/",
          "height": 195
        },
        "id": "5BUzh9B5HBb-",
        "outputId": "c68d3bd2-1fab-40d7-d7fb-3a034c59d108"
      },
      "source": [
        "data.iloc[28708:28713]"
      ],
      "execution_count": null,
      "outputs": [
        {
          "output_type": "execute_result",
          "data": {
            "text/html": [
              "<div>\n",
              "<style scoped>\n",
              "    .dataframe tbody tr th:only-of-type {\n",
              "        vertical-align: middle;\n",
              "    }\n",
              "\n",
              "    .dataframe tbody tr th {\n",
              "        vertical-align: top;\n",
              "    }\n",
              "\n",
              "    .dataframe thead th {\n",
              "        text-align: right;\n",
              "    }\n",
              "</style>\n",
              "<table border=\"1\" class=\"dataframe\">\n",
              "  <thead>\n",
              "    <tr style=\"text-align: right;\">\n",
              "      <th></th>\n",
              "      <th>0</th>\n",
              "      <th>1</th>\n",
              "      <th>2</th>\n",
              "    </tr>\n",
              "  </thead>\n",
              "  <tbody>\n",
              "    <tr>\n",
              "      <th>28708</th>\n",
              "      <td>0</td>\n",
              "      <td>Training</td>\n",
              "      <td>222 227 203 90 86 90 84 77 94 87 99 119 134 14...</td>\n",
              "    </tr>\n",
              "    <tr>\n",
              "      <th>28709</th>\n",
              "      <td>4</td>\n",
              "      <td>Training</td>\n",
              "      <td>195 199 205 206 205 203 206 209 208 210 212 21...</td>\n",
              "    </tr>\n",
              "    <tr>\n",
              "      <th>28710</th>\n",
              "      <td>0</td>\n",
              "      <td>PublicTest</td>\n",
              "      <td>254 254 254 254 254 249 255 160 2 58 53 70 77 ...</td>\n",
              "    </tr>\n",
              "    <tr>\n",
              "      <th>28711</th>\n",
              "      <td>1</td>\n",
              "      <td>PublicTest</td>\n",
              "      <td>156 184 198 202 204 207 210 212 213 214 215 21...</td>\n",
              "    </tr>\n",
              "    <tr>\n",
              "      <th>28712</th>\n",
              "      <td>4</td>\n",
              "      <td>PublicTest</td>\n",
              "      <td>69 118 61 60 96 121 103 87 103 88 70 90 115 12...</td>\n",
              "    </tr>\n",
              "  </tbody>\n",
              "</table>\n",
              "</div>"
            ],
            "text/plain": [
              "       0           1                                                  2\n",
              "28708  0    Training  222 227 203 90 86 90 84 77 94 87 99 119 134 14...\n",
              "28709  4    Training  195 199 205 206 205 203 206 209 208 210 212 21...\n",
              "28710  0  PublicTest  254 254 254 254 254 249 255 160 2 58 53 70 77 ...\n",
              "28711  1  PublicTest  156 184 198 202 204 207 210 212 213 214 215 21...\n",
              "28712  4  PublicTest  69 118 61 60 96 121 103 87 103 88 70 90 115 12..."
            ]
          },
          "metadata": {
            "tags": []
          },
          "execution_count": 5
        }
      ]
    },
    {
      "cell_type": "code",
      "metadata": {
        "id": "alJCxRZMgGZr"
      },
      "source": [
        "data=data.to_numpy()"
      ],
      "execution_count": null,
      "outputs": []
    },
    {
      "cell_type": "code",
      "metadata": {
        "colab": {
          "base_uri": "https://localhost:8080/"
        },
        "id": "cotyjLh70AyS",
        "outputId": "3b96e125-baf1-4977-aebb-6e3c36d7fda1"
      },
      "source": [
        "data.shape"
      ],
      "execution_count": null,
      "outputs": [
        {
          "output_type": "execute_result",
          "data": {
            "text/plain": [
              "(35888, 3)"
            ]
          },
          "metadata": {
            "tags": []
          },
          "execution_count": 7
        }
      ]
    },
    {
      "cell_type": "code",
      "metadata": {
        "id": "WT-xv8Dh_BNu"
      },
      "source": [
        "training=data[1:28709]\r\n",
        "testing=data[28710:]"
      ],
      "execution_count": null,
      "outputs": []
    },
    {
      "cell_type": "code",
      "metadata": {
        "id": "qhAVTxRk_azH",
        "colab": {
          "base_uri": "https://localhost:8080/"
        },
        "outputId": "6a90d15e-16f8-448c-a2cb-d52b8a447228"
      },
      "source": [
        "print(training.shape)\r\n",
        "print(testing.shape)"
      ],
      "execution_count": null,
      "outputs": [
        {
          "output_type": "stream",
          "text": [
            "(28708, 3)\n",
            "(7178, 3)\n"
          ],
          "name": "stdout"
        }
      ]
    },
    {
      "cell_type": "code",
      "metadata": {
        "id": "G_e98rwQ_h7a"
      },
      "source": [
        "training_features=training[:,-1]\r\n",
        "training_labels=training[:,0]\r\n",
        "testing_features=testing[:,-1]\r\n",
        "testing_labels=testing[:,0]"
      ],
      "execution_count": null,
      "outputs": []
    },
    {
      "cell_type": "code",
      "metadata": {
        "colab": {
          "base_uri": "https://localhost:8080/",
          "height": 35
        },
        "id": "tNaIBO2dPzbS",
        "outputId": "450b3856-253b-47ba-c8be-fbcf93ddbf67"
      },
      "source": [
        "training_labels[0]"
      ],
      "execution_count": null,
      "outputs": [
        {
          "output_type": "execute_result",
          "data": {
            "application/vnd.google.colaboratory.intrinsic+json": {
              "type": "string"
            },
            "text/plain": [
              "'0'"
            ]
          },
          "metadata": {
            "tags": []
          },
          "execution_count": 12
        }
      ]
    },
    {
      "cell_type": "code",
      "metadata": {
        "colab": {
          "base_uri": "https://localhost:8080/"
        },
        "id": "SCYOTqxuAkWy",
        "outputId": "b5904c4b-71e7-4a27-b08a-cdba588499b2"
      },
      "source": [
        "print(training_features.shape)\r\n",
        "print(training_labels.shape)\r\n",
        "print(testing_features.shape)\r\n",
        "print(testing_labels.shape)"
      ],
      "execution_count": null,
      "outputs": [
        {
          "output_type": "stream",
          "text": [
            "(28708,)\n",
            "(28708,)\n",
            "(7178,)\n",
            "(7178,)\n"
          ],
          "name": "stdout"
        }
      ]
    },
    {
      "cell_type": "code",
      "metadata": {
        "id": "8RYUgM4pk-rn"
      },
      "source": [
        "training_labels=training_labels.astype('float32')\r\n",
        "testing_labels=testing_labels.astype('float32')"
      ],
      "execution_count": null,
      "outputs": []
    },
    {
      "cell_type": "code",
      "metadata": {
        "colab": {
          "base_uri": "https://localhost:8080/"
        },
        "id": "hR4qFkxuiwlW",
        "outputId": "e970aa0a-0006-4503-a445-33fc700b317c"
      },
      "source": [
        "training_labels.shape\r\n",
        "testing_labels.shape"
      ],
      "execution_count": null,
      "outputs": [
        {
          "output_type": "execute_result",
          "data": {
            "text/plain": [
              "(7178,)"
            ]
          },
          "metadata": {
            "tags": []
          },
          "execution_count": 16
        }
      ]
    },
    {
      "cell_type": "code",
      "metadata": {
        "colab": {
          "base_uri": "https://localhost:8080/"
        },
        "id": "GgsuUqjpAwfo",
        "outputId": "608b1b5c-5528-4f31-baff-a5ac0d057676"
      },
      "source": [
        "type(training_features)"
      ],
      "execution_count": null,
      "outputs": [
        {
          "output_type": "execute_result",
          "data": {
            "text/plain": [
              "numpy.ndarray"
            ]
          },
          "metadata": {
            "tags": []
          },
          "execution_count": 17
        }
      ]
    },
    {
      "cell_type": "code",
      "metadata": {
        "colab": {
          "base_uri": "https://localhost:8080/"
        },
        "id": "-APQHujTZ3Xg",
        "outputId": "06781789-2068-49b9-c651-459660d8f1ec"
      },
      "source": [
        "testing_features.shape"
      ],
      "execution_count": null,
      "outputs": [
        {
          "output_type": "execute_result",
          "data": {
            "text/plain": [
              "(7178,)"
            ]
          },
          "metadata": {
            "tags": []
          },
          "execution_count": 19
        }
      ]
    },
    {
      "cell_type": "code",
      "metadata": {
        "id": "4fyMhJj2foAB"
      },
      "source": [
        "test_feature=[]\r\n",
        "for i in range(0,7178):\r\n",
        "  testing_features[i]=testing_features[i].split(\" \")\r\n",
        "  testing_features[i]=np.array(testing_features[i])\r\n",
        "  testing_features[i]=testing_features[i].astype('float32')\r\n",
        "  testing_features[i]=testing_features[i]/255\r\n",
        "  \r\n",
        "  for j in testing_features[i]:\r\n",
        "   test_feature.append(j)\r\n",
        "test_feature=np.array(test_feature)  \r\n",
        "test_feature=test_feature.reshape(-1,48,48,1)\r\n",
        "\r\n",
        "\r\n"
      ],
      "execution_count": null,
      "outputs": []
    },
    {
      "cell_type": "code",
      "metadata": {
        "colab": {
          "base_uri": "https://localhost:8080/"
        },
        "id": "ICqllNsDF4vG",
        "outputId": "bcdb2326-a20b-40fe-ba43-45671c21c0c0"
      },
      "source": [
        "test_feature.shape"
      ],
      "execution_count": null,
      "outputs": [
        {
          "output_type": "execute_result",
          "data": {
            "text/plain": [
              "(7178, 48, 48, 1)"
            ]
          },
          "metadata": {
            "tags": []
          },
          "execution_count": 21
        }
      ]
    },
    {
      "cell_type": "code",
      "metadata": {
        "id": "lv6OSQxF1Bf-"
      },
      "source": [
        ""
      ],
      "execution_count": null,
      "outputs": []
    },
    {
      "cell_type": "code",
      "metadata": {
        "id": "ph2v6FX4itqx"
      },
      "source": [
        "train_feature=[]\r\n",
        "for i in range(0,28708):\r\n",
        "  training_features[i]=training_features[i].split(\" \")\r\n",
        "  training_features[i]=np.array(training_features[i])\r\n",
        "  training_features[i]=training_features[i].astype('float32')\r\n",
        "  training_features[i]=training_features[i]/255\r\n",
        "  for j in training_features[i]:\r\n",
        "    train_feature.append(j)\r\n",
        "train_feature=np.array(train_feature)  \r\n",
        "train_feature=train_feature.reshape(-1,48,48,1)\r\n",
        "\r\n",
        "\r\n"
      ],
      "execution_count": null,
      "outputs": []
    },
    {
      "cell_type": "code",
      "metadata": {
        "id": "EJgiazPEEzVS",
        "colab": {
          "base_uri": "https://localhost:8080/"
        },
        "outputId": "29124347-98dd-4ef0-b0ed-3b2dfa5a3a5b"
      },
      "source": [
        "train_feature.shape"
      ],
      "execution_count": null,
      "outputs": [
        {
          "output_type": "execute_result",
          "data": {
            "text/plain": [
              "(28708, 48, 48, 1)"
            ]
          },
          "metadata": {
            "tags": []
          },
          "execution_count": 23
        }
      ]
    },
    {
      "cell_type": "markdown",
      "metadata": {
        "id": "2i1101d_XWil"
      },
      "source": [
        "plt.figure()\r\n",
        "plt.imshow(train_feature[50])\r\n",
        "plt.colorbar()\r\n",
        "plt.grid(False)\r\n",
        "plt.show()"
      ]
    },
    {
      "cell_type": "code",
      "metadata": {
        "id": "Co3Ch_oCLU8j"
      },
      "source": [
        "class_names=['Angry','Disgust','Fear','Happy','Sad','Surprise','Neutral']"
      ],
      "execution_count": null,
      "outputs": []
    },
    {
      "cell_type": "code",
      "metadata": {
        "id": "D5H4SVjfie0F",
        "colab": {
          "base_uri": "https://localhost:8080/",
          "height": 35
        },
        "outputId": "0aa92856-c9cd-40c0-eabd-d9f0fb7680b4"
      },
      "source": [
        "class_names[5]"
      ],
      "execution_count": null,
      "outputs": [
        {
          "output_type": "execute_result",
          "data": {
            "application/vnd.google.colaboratory.intrinsic+json": {
              "type": "string"
            },
            "text/plain": [
              "'Surprise'"
            ]
          },
          "metadata": {
            "tags": []
          },
          "execution_count": 25
        }
      ]
    },
    {
      "cell_type": "code",
      "metadata": {
        "id": "jmbGI0fg9L0T"
      },
      "source": [
        "model = models.Sequential()\r\n",
        "model.add(layers.Conv2D(32, (3, 3), activation='relu', input_shape=(48, 48,1)))\r\n",
        "model.add(layers.MaxPooling2D((2, 2)))\r\n",
        "model.add(layers.Conv2D(64, (3, 3), activation='relu'))\r\n",
        "model.add(layers.MaxPooling2D((2, 2)))\r\n",
        "model.add(layers.Conv2D(64, (3, 3), activation='relu'))\r\n",
        "model.add(layers.Flatten())\r\n",
        "model.add(layers.Dense(128, activation='relu'))\r\n",
        "model.add(layers.Dense(7) )"
      ],
      "execution_count": null,
      "outputs": []
    },
    {
      "cell_type": "code",
      "metadata": {
        "id": "9m-pXEemfXiZ",
        "colab": {
          "base_uri": "https://localhost:8080/"
        },
        "outputId": "54411dd2-5f21-4091-f60d-72e030d83e85"
      },
      "source": [
        "model.compile(optimizer='adam',\r\n",
        "              loss=tf.keras.losses.SparseCategoricalCrossentropy(from_logits=True),\r\n",
        "              metrics=['accuracy'])\r\n",
        "\r\n",
        "history = model.fit(train_feature, training_labels, epochs=20, \r\n",
        "                    validation_data=(test_feature,testing_labels))"
      ],
      "execution_count": null,
      "outputs": [
        {
          "output_type": "stream",
          "text": [
            "Epoch 1/20\n",
            "898/898 [==============================] - 81s 90ms/step - loss: 1.7331 - accuracy: 0.3019 - val_loss: 1.4891 - val_accuracy: 0.4299\n",
            "Epoch 2/20\n",
            "898/898 [==============================] - 80s 89ms/step - loss: 1.4331 - accuracy: 0.4549 - val_loss: 1.3407 - val_accuracy: 0.4763\n",
            "Epoch 3/20\n",
            "898/898 [==============================] - 80s 89ms/step - loss: 1.2718 - accuracy: 0.5149 - val_loss: 1.2931 - val_accuracy: 0.4941\n",
            "Epoch 4/20\n",
            "898/898 [==============================] - 80s 89ms/step - loss: 1.1825 - accuracy: 0.5562 - val_loss: 1.2458 - val_accuracy: 0.5195\n",
            "Epoch 5/20\n",
            "898/898 [==============================] - 80s 89ms/step - loss: 1.0839 - accuracy: 0.5953 - val_loss: 1.2215 - val_accuracy: 0.5326\n",
            "Epoch 6/20\n",
            "898/898 [==============================] - 80s 89ms/step - loss: 0.9713 - accuracy: 0.6367 - val_loss: 1.2332 - val_accuracy: 0.5368\n",
            "Epoch 7/20\n",
            "898/898 [==============================] - 80s 89ms/step - loss: 0.8841 - accuracy: 0.6766 - val_loss: 1.2804 - val_accuracy: 0.5383\n",
            "Epoch 8/20\n",
            "898/898 [==============================] - 80s 89ms/step - loss: 0.7852 - accuracy: 0.7140 - val_loss: 1.3671 - val_accuracy: 0.5443\n",
            "Epoch 9/20\n",
            "898/898 [==============================] - 80s 89ms/step - loss: 0.6877 - accuracy: 0.7569 - val_loss: 1.3973 - val_accuracy: 0.5344\n",
            "Epoch 10/20\n",
            "898/898 [==============================] - 80s 89ms/step - loss: 0.5716 - accuracy: 0.7976 - val_loss: 1.5560 - val_accuracy: 0.5348\n",
            "Epoch 11/20\n",
            "898/898 [==============================] - 80s 89ms/step - loss: 0.4871 - accuracy: 0.8257 - val_loss: 1.7219 - val_accuracy: 0.5352\n",
            "Epoch 12/20\n",
            "898/898 [==============================] - 80s 89ms/step - loss: 0.3975 - accuracy: 0.8605 - val_loss: 1.8663 - val_accuracy: 0.5309\n",
            "Epoch 13/20\n",
            "898/898 [==============================] - 80s 89ms/step - loss: 0.3234 - accuracy: 0.8916 - val_loss: 2.2260 - val_accuracy: 0.5369\n",
            "Epoch 14/20\n",
            "898/898 [==============================] - 80s 89ms/step - loss: 0.2850 - accuracy: 0.9031 - val_loss: 2.3263 - val_accuracy: 0.5279\n",
            "Epoch 15/20\n",
            "898/898 [==============================] - 80s 89ms/step - loss: 0.2334 - accuracy: 0.9227 - val_loss: 2.6499 - val_accuracy: 0.5276\n",
            "Epoch 16/20\n",
            "898/898 [==============================] - 80s 90ms/step - loss: 0.2039 - accuracy: 0.9318 - val_loss: 2.7526 - val_accuracy: 0.5245\n",
            "Epoch 17/20\n",
            "898/898 [==============================] - 80s 89ms/step - loss: 0.1563 - accuracy: 0.9470 - val_loss: 2.9473 - val_accuracy: 0.5270\n",
            "Epoch 18/20\n",
            "898/898 [==============================] - 80s 89ms/step - loss: 0.1357 - accuracy: 0.9561 - val_loss: 3.1873 - val_accuracy: 0.5269\n",
            "Epoch 19/20\n",
            "898/898 [==============================] - 80s 89ms/step - loss: 0.1338 - accuracy: 0.9547 - val_loss: 3.4197 - val_accuracy: 0.5293\n",
            "Epoch 20/20\n",
            "898/898 [==============================] - 80s 89ms/step - loss: 0.1177 - accuracy: 0.9626 - val_loss: 3.5456 - val_accuracy: 0.5187\n"
          ],
          "name": "stdout"
        }
      ]
    },
    {
      "cell_type": "code",
      "metadata": {
        "id": "ygChkzCL_0rb",
        "colab": {
          "base_uri": "https://localhost:8080/",
          "height": 284
        },
        "outputId": "5714718f-fb27-4eb7-a5cc-4f46a35845f2"
      },
      "source": [
        "img=image.load_img('/content/s007-04_img.tif',target_size=(48,48))\r\n",
        "plt.imshow(img)"
      ],
      "execution_count": null,
      "outputs": [
        {
          "output_type": "execute_result",
          "data": {
            "text/plain": [
              "<matplotlib.image.AxesImage at 0x7fe3072676a0>"
            ]
          },
          "metadata": {
            "tags": []
          },
          "execution_count": 29
        },
        {
          "output_type": "display_data",
          "data": {
            "image/png": "[encoded data removed]",
            "text/plain": [
              "<Figure size 432x288 with 1 Axes>"
            ]
          },
          "metadata": {
            "tags": [],
            "needs_background": "light"
          }
        }
      ]
    },
    {
      "cell_type": "code",
      "metadata": {
        "id": "FPZ4XeWJWAuD",
        "colab": {
          "base_uri": "https://localhost:8080/"
        },
        "outputId": "56a2c875-445c-42c3-98f1-fb5a5a0a44b8"
      },
      "source": [
        "X=image.img_to_array(img)\r\n",
        "X.shape\r\n",
        "\r\n"
      ],
      "execution_count": null,
      "outputs": [
        {
          "output_type": "execute_result",
          "data": {
            "text/plain": [
              "(48, 48, 3)"
            ]
          },
          "metadata": {
            "tags": []
          },
          "execution_count": 30
        }
      ]
    },
    {
      "cell_type": "code",
      "metadata": {
        "id": "0pF9R8tWy5lI"
      },
      "source": [
        "X=np.expand_dims(X,axis=0)\r\n",
        "images=np.vstack([X])\r\n",
        "images=images.reshape(-1,48,48,1)\r\n",
        "val=model.predict(images)\r\n"
      ],
      "execution_count": null,
      "outputs": []
    },
    {
      "cell_type": "code",
      "metadata": {
        "id": "pcSS8IJ4VztH",
        "colab": {
          "base_uri": "https://localhost:8080/"
        },
        "outputId": "5e06e08e-aa6f-4c1a-e543-8fa91c70fe56"
      },
      "source": [
        "print(val)"
      ],
      "execution_count": null,
      "outputs": [
        {
          "output_type": "stream",
          "text": [
            "[[  1070.1301   -2355.205      374.59814   1310.3115    -873.6069\n",
            "    -821.32275   -295.74283]\n",
            " [  2008.2731   -9661.127      916.08325   -551.8367    -172.24657\n",
            "   -3058.4539    1610.2712 ]\n",
            " [ -1442.041   -11692.838     1839.4066   -2297.6123    1926.6101\n",
            "   -4503.39      4128.8228 ]]\n"
          ],
          "name": "stdout"
        }
      ]
    },
    {
      "cell_type": "code",
      "metadata": {
        "id": "SkM3uh6naFFd",
        "colab": {
          "base_uri": "https://localhost:8080/"
        },
        "outputId": "b7d112f1-1c26-407a-d520-3e6ae2409214"
      },
      "source": [
        "print(np.argmax(val[0]))"
      ],
      "execution_count": null,
      "outputs": [
        {
          "output_type": "stream",
          "text": [
            "3\n"
          ],
          "name": "stdout"
        }
      ]
    },
    {
      "cell_type": "code",
      "metadata": {
        "id": "goZjIcauavCp",
        "colab": {
          "base_uri": "https://localhost:8080/",
          "height": 267
        },
        "outputId": "7745e73b-cc01-4b33-b6f7-2853ed002a6d"
      },
      "source": [
        "im=image.load_img('/content/s006-03_img.tif',target_size=(48,48))\r\n",
        "plt.imshow(im)\r\n",
        "y=image.img_to_array(im)\r\n",
        "y=np.expand_dims(y,axis=0)\r\n",
        "imag=np.vstack([y])\r\n",
        "imag=imag.reshape(-1,48,48,1)\r\n"
      ],
      "execution_count": null,
      "outputs": [
        {
          "output_type": "display_data",
          "data": {
            "image/png": "[encoded data removed]",
            "text/plain": [
              "<Figure size 432x288 with 1 Axes>"
            ]
          },
          "metadata": {
            "tags": [],
            "needs_background": "light"
          }
        }
      ]
    },
    {
      "cell_type": "code",
      "metadata": {
        "id": "0-4uRYL8cycW",
        "colab": {
          "base_uri": "https://localhost:8080/"
        },
        "outputId": "4b998afa-8551-4032-ade1-261bb0e48ff1"
      },
      "source": [
        "valu=model.predict(imag)\r\n",
        "print(valu)"
      ],
      "execution_count": null,
      "outputs": [
        {
          "output_type": "stream",
          "text": [
            "[[    42.944855  -1991.123      1577.1063       59.117596    630.43054\n",
            "   -2414.7332    -1830.0947  ]\n",
            " [  -501.4186   -13533.966      2577.5073    -1181.0765     1753.2378\n",
            "   -4277.655      2531.14    ]\n",
            " [  2534.97     -19332.84       1028.8524     3199.4163     -377.38358\n",
            "   -7716.5483     2897.732   ]]\n"
          ],
          "name": "stdout"
        }
      ]
    },
    {
      "cell_type": "code",
      "metadata": {
        "id": "Q8MUAf_ldVCd",
        "colab": {
          "base_uri": "https://localhost:8080/"
        },
        "outputId": "bdc018e1-d879-4ac6-d65d-ff7e41c734e1"
      },
      "source": [
        "print(np.argmax(valu[0]))"
      ],
      "execution_count": null,
      "outputs": [
        {
          "output_type": "stream",
          "text": [
            "2\n"
          ],
          "name": "stdout"
        }
      ]
    },
    {
      "cell_type": "code",
      "metadata": {
        "id": "25yoikmVc29u"
      },
      "source": [
        ""
      ],
      "execution_count": null,
      "outputs": []
    }
  ]
}